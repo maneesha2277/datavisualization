{
 "cells": [
  {
   "cell_type": "code",
   "execution_count": 8,
   "id": "fe58e4f4-737e-495a-b964-c8e490af10ee",
   "metadata": {},
   "outputs": [],
   "source": [
    "def add():\n",
    "    print(1+2)\n",
    "\n"
   ]
  },
  {
   "cell_type": "code",
   "execution_count": null,
   "id": "148e5795-2ebe-4b9b-81b4-c2e6bfaefe58",
   "metadata": {},
   "outputs": [],
   "source": []
  }
 ],
 "metadata": {
  "kernelspec": {
   "display_name": "Python 3 (ipykernel)",
   "language": "python",
   "name": "python3"
  },
  "language_info": {
   "codemirror_mode": {
    "name": "ipython",
    "version": 3
   },
   "file_extension": ".py",
   "mimetype": "text/x-python",
   "name": "python",
   "nbconvert_exporter": "python",
   "pygments_lexer": "ipython3",
   "version": "3.13.2"
  }
 },
 "nbformat": 4,
 "nbformat_minor": 5
}
